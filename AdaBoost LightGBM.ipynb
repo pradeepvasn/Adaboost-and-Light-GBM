{
 "cells": [
  {
   "cell_type": "code",
   "execution_count": 1,
   "metadata": {},
   "outputs": [],
   "source": [
    "import numpy as np\n",
    "import pandas as pd\n",
    "import matplotlib.pyplot as plt\n",
    "import seaborn as sns \n"
   ]
  },
  {
   "cell_type": "code",
   "execution_count": 7,
   "metadata": {},
   "outputs": [
    {
     "data": {
      "text/html": [
       "<div>\n",
       "<style scoped>\n",
       "    .dataframe tbody tr th:only-of-type {\n",
       "        vertical-align: middle;\n",
       "    }\n",
       "\n",
       "    .dataframe tbody tr th {\n",
       "        vertical-align: top;\n",
       "    }\n",
       "\n",
       "    .dataframe thead th {\n",
       "        text-align: right;\n",
       "    }\n",
       "</style>\n",
       "<table border=\"1\" class=\"dataframe\">\n",
       "  <thead>\n",
       "    <tr style=\"text-align: right;\">\n",
       "      <th></th>\n",
       "      <th>Pregnancies</th>\n",
       "      <th>Glucose</th>\n",
       "      <th>BloodPressure</th>\n",
       "      <th>SkinThickness</th>\n",
       "      <th>Insulin</th>\n",
       "      <th>BMI</th>\n",
       "      <th>DiabetesPedigreeFunction</th>\n",
       "      <th>Age</th>\n",
       "      <th>Outcome</th>\n",
       "    </tr>\n",
       "  </thead>\n",
       "  <tbody>\n",
       "    <tr>\n",
       "      <th>0</th>\n",
       "      <td>6</td>\n",
       "      <td>148</td>\n",
       "      <td>72</td>\n",
       "      <td>35</td>\n",
       "      <td>0</td>\n",
       "      <td>33.6</td>\n",
       "      <td>0.627</td>\n",
       "      <td>50</td>\n",
       "      <td>1</td>\n",
       "    </tr>\n",
       "    <tr>\n",
       "      <th>1</th>\n",
       "      <td>1</td>\n",
       "      <td>85</td>\n",
       "      <td>66</td>\n",
       "      <td>29</td>\n",
       "      <td>0</td>\n",
       "      <td>26.6</td>\n",
       "      <td>0.351</td>\n",
       "      <td>31</td>\n",
       "      <td>0</td>\n",
       "    </tr>\n",
       "    <tr>\n",
       "      <th>2</th>\n",
       "      <td>8</td>\n",
       "      <td>183</td>\n",
       "      <td>64</td>\n",
       "      <td>0</td>\n",
       "      <td>0</td>\n",
       "      <td>23.3</td>\n",
       "      <td>0.672</td>\n",
       "      <td>32</td>\n",
       "      <td>1</td>\n",
       "    </tr>\n",
       "    <tr>\n",
       "      <th>3</th>\n",
       "      <td>1</td>\n",
       "      <td>89</td>\n",
       "      <td>66</td>\n",
       "      <td>23</td>\n",
       "      <td>94</td>\n",
       "      <td>28.1</td>\n",
       "      <td>0.167</td>\n",
       "      <td>21</td>\n",
       "      <td>0</td>\n",
       "    </tr>\n",
       "    <tr>\n",
       "      <th>4</th>\n",
       "      <td>0</td>\n",
       "      <td>137</td>\n",
       "      <td>40</td>\n",
       "      <td>35</td>\n",
       "      <td>168</td>\n",
       "      <td>43.1</td>\n",
       "      <td>2.288</td>\n",
       "      <td>33</td>\n",
       "      <td>1</td>\n",
       "    </tr>\n",
       "  </tbody>\n",
       "</table>\n",
       "</div>"
      ],
      "text/plain": [
       "   Pregnancies  Glucose  BloodPressure  SkinThickness  Insulin   BMI  \\\n",
       "0            6      148             72             35        0  33.6   \n",
       "1            1       85             66             29        0  26.6   \n",
       "2            8      183             64              0        0  23.3   \n",
       "3            1       89             66             23       94  28.1   \n",
       "4            0      137             40             35      168  43.1   \n",
       "\n",
       "   DiabetesPedigreeFunction  Age  Outcome  \n",
       "0                     0.627   50        1  \n",
       "1                     0.351   31        0  \n",
       "2                     0.672   32        1  \n",
       "3                     0.167   21        0  \n",
       "4                     2.288   33        1  "
      ]
     },
     "execution_count": 7,
     "metadata": {},
     "output_type": "execute_result"
    }
   ],
   "source": [
    "df=pd.read_csv('diabetes.csv')\n",
    "df.head()"
   ]
  },
  {
   "cell_type": "code",
   "execution_count": 8,
   "metadata": {},
   "outputs": [
    {
     "name": "stdout",
     "output_type": "stream",
     "text": [
      "<class 'pandas.core.frame.DataFrame'>\n",
      "RangeIndex: 768 entries, 0 to 767\n",
      "Data columns (total 9 columns):\n",
      " #   Column                    Non-Null Count  Dtype  \n",
      "---  ------                    --------------  -----  \n",
      " 0   Pregnancies               768 non-null    int64  \n",
      " 1   Glucose                   768 non-null    int64  \n",
      " 2   BloodPressure             768 non-null    int64  \n",
      " 3   SkinThickness             768 non-null    int64  \n",
      " 4   Insulin                   768 non-null    int64  \n",
      " 5   BMI                       768 non-null    float64\n",
      " 6   DiabetesPedigreeFunction  768 non-null    float64\n",
      " 7   Age                       768 non-null    int64  \n",
      " 8   Outcome                   768 non-null    int64  \n",
      "dtypes: float64(2), int64(7)\n",
      "memory usage: 54.1 KB\n"
     ]
    }
   ],
   "source": [
    "df.info()"
   ]
  },
  {
   "cell_type": "code",
   "execution_count": 11,
   "metadata": {},
   "outputs": [
    {
     "data": {
      "text/plain": [
       "0    500\n",
       "1    268\n",
       "Name: Outcome, dtype: int64"
      ]
     },
     "execution_count": 11,
     "metadata": {},
     "output_type": "execute_result"
    }
   ],
   "source": [
    "df['Outcome'].value_counts()"
   ]
  },
  {
   "cell_type": "markdown",
   "metadata": {},
   "source": [
    "#### AdaBoost Classifier "
   ]
  },
  {
   "cell_type": "code",
   "execution_count": 12,
   "metadata": {},
   "outputs": [],
   "source": [
    "y=df['Outcome']\n",
    "X=df.drop('Outcome',axis=1)"
   ]
  },
  {
   "cell_type": "code",
   "execution_count": 14,
   "metadata": {},
   "outputs": [],
   "source": [
    "from sklearn.model_selection import train_test_split\n",
    "xtrain,xtest,ytrain,ytest=train_test_split(X,y,train_size=0.7,random_state=42)"
   ]
  },
  {
   "cell_type": "code",
   "execution_count": 15,
   "metadata": {},
   "outputs": [],
   "source": [
    "from sklearn.ensemble import AdaBoostClassifier \n",
    "from sklearn.metrics import accuracy_score,confusion_matrix,roc_auc_score,roc_curve"
   ]
  },
  {
   "cell_type": "code",
   "execution_count": 16,
   "metadata": {},
   "outputs": [
    {
     "name": "stdout",
     "output_type": "stream",
     "text": [
      "Train Results \n",
      " \n",
      "Confusion Matrix \n",
      "\n",
      "[[319  30]\n",
      " [ 49 139]]\n",
      "**************\n",
      "Accuracy SCore 0.8528864059590316\n",
      "ROC_AUC_SCORE 0.9367646162287386\n",
      "\n",
      "\n",
      "Test Results \n",
      "Confusion Matrix \n",
      "*************************************\n",
      "[[122  29]\n",
      " [ 30  50]] \n",
      "\n",
      "Accuracy Score 0.7445887445887446\n",
      "ROC_AUC_SCORE 0.7551738410596026\n"
     ]
    }
   ],
   "source": [
    "adac= AdaBoostClassifier(random_state=4)\n",
    "\n",
    "adac.fit(xtrain,ytrain)\n",
    "ytrain_pred=adac.predict(xtrain)\n",
    "ytrain_prob=adac.predict_proba(xtrain)[:,1]\n",
    "\n",
    "print('Train Results \\n ')\n",
    "print('Confusion Matrix \\n')\n",
    "print(confusion_matrix(ytrain,ytrain_pred))\n",
    "print('**************')\n",
    "print('Accuracy SCore',accuracy_score(ytrain,ytrain_pred))\n",
    "print('ROC_AUC_SCORE',roc_auc_score(ytrain,ytrain_prob))\n",
    "\n",
    "\n",
    "ytest_pred=adac.predict(xtest)\n",
    "ytest_prob=adac.predict_proba(xtest)[:,1]\n",
    "\n",
    "print('\\n')\n",
    "print('Test Results ')\n",
    "print('Confusion Matrix ')\n",
    "print('*************************************')\n",
    "print(confusion_matrix(ytest,ytest_pred),'\\n')\n",
    "print('Accuracy Score',accuracy_score(ytest,ytest_pred))\n",
    "print('ROC_AUC_SCORE',roc_auc_score(ytest,ytest_prob))\n",
    "\n"
   ]
  },
  {
   "cell_type": "markdown",
   "metadata": {},
   "source": [
    "### LightGBM"
   ]
  },
  {
   "cell_type": "code",
   "execution_count": 18,
   "metadata": {},
   "outputs": [
    {
     "name": "stdout",
     "output_type": "stream",
     "text": [
      "Requirement already satisfied: LightGBM in d:\\anaconda\\lib\\site-packages (3.1.1)\n",
      "Requirement already satisfied: scipy in d:\\anaconda\\lib\\site-packages (from LightGBM) (1.5.0)\n",
      "Requirement already satisfied: numpy in d:\\anaconda\\lib\\site-packages (from LightGBM) (1.18.1)\n",
      "Requirement already satisfied: scikit-learn!=0.22.0 in d:\\anaconda\\lib\\site-packages (from LightGBM) (0.23.1)\n",
      "Requirement already satisfied: wheel in d:\\anaconda\\lib\\site-packages (from LightGBM) (0.34.2)\n",
      "Requirement already satisfied: threadpoolctl>=2.0.0 in d:\\anaconda\\lib\\site-packages (from scikit-learn!=0.22.0->LightGBM) (2.1.0)\n",
      "Requirement already satisfied: joblib>=0.11 in d:\\anaconda\\lib\\site-packages (from scikit-learn!=0.22.0->LightGBM) (0.15.1)\n",
      "Note: you may need to restart the kernel to use updated packages.\n"
     ]
    }
   ],
   "source": [
    "pip install LightGBM"
   ]
  },
  {
   "cell_type": "code",
   "execution_count": 20,
   "metadata": {},
   "outputs": [],
   "source": [
    "import lightgbm as lgb"
   ]
  },
  {
   "cell_type": "code",
   "execution_count": 24,
   "metadata": {},
   "outputs": [],
   "source": [
    "from sklearn.preprocessing import StandardScaler\n",
    "ss=StandardScaler()\n",
    "\n",
    "xtrains=ss.fit_transform(xtrain)\n",
    "xtests=ss.transform(xtest)"
   ]
  },
  {
   "cell_type": "code",
   "execution_count": 25,
   "metadata": {},
   "outputs": [
    {
     "name": "stdout",
     "output_type": "stream",
     "text": [
      "Train Results \n",
      " \n",
      "Confusion Matrix \n",
      "\n",
      "[[349   0]\n",
      " [  0 188]]\n",
      "**************\n",
      "Accuracy SCore 1.0\n",
      "ROC_AUC_SCORE 1.0\n",
      "\n",
      "\n",
      "Test Results \n",
      "Confusion Matrix \n",
      "*************************************\n",
      "[[116  35]\n",
      " [ 26  54]] \n",
      "\n",
      "Accuracy Score 0.7359307359307359\n",
      "ROC_AUC_SCORE 0.7939569536423841\n"
     ]
    }
   ],
   "source": [
    "lgbc= lgb.LGBMClassifier(random_state=4)\n",
    "\n",
    "\n",
    "\n",
    "lgbc.fit(xtrains,ytrain)\n",
    "ytrain_pred=lgbc.predict(xtrains)\n",
    "ytrain_prob=lgbc.predict_proba(xtrains)[:,1]\n",
    "\n",
    "print('Train Results \\n ')\n",
    "print('Confusion Matrix \\n')\n",
    "print(confusion_matrix(ytrain,ytrain_pred))\n",
    "print('**************')\n",
    "print('Accuracy SCore',accuracy_score(ytrain,ytrain_pred))\n",
    "print('ROC_AUC_SCORE',roc_auc_score(ytrain,ytrain_prob))\n",
    "\n",
    "\n",
    "ytest_pred=lgbc.predict(xtests)\n",
    "ytest_prob=lgbc.predict_proba(xtests)[:,1]\n",
    "\n",
    "print('\\n')\n",
    "print('Test Results ')\n",
    "print('Confusion Matrix ')\n",
    "print('*************************************')\n",
    "print(confusion_matrix(ytest,ytest_pred),'\\n')\n",
    "print('Accuracy Score',accuracy_score(ytest,ytest_pred))\n",
    "print('ROC_AUC_SCORE',roc_auc_score(ytest,ytest_prob))\n",
    "\n"
   ]
  },
  {
   "cell_type": "markdown",
   "metadata": {},
   "source": [
    "### HYper Parameter Tuning of LightGBM"
   ]
  },
  {
   "cell_type": "code",
   "execution_count": 31,
   "metadata": {},
   "outputs": [],
   "source": [
    "from sklearn.model_selection import RandomizedSearchCV\n",
    "from scipy.stats import randint as sp_randint \n",
    "from scipy.stats import uniform as sp_uniform"
   ]
  },
  {
   "cell_type": "code",
   "execution_count": 37,
   "metadata": {},
   "outputs": [
    {
     "data": {
      "text/plain": [
       "RandomizedSearchCV(cv=3, estimator=LGBMClassifier(random_state=4), n_iter=100,\n",
       "                   n_jobs=-1,\n",
       "                   param_distributions={'learning_rate': <scipy.stats._distn_infrastructure.rv_frozen object at 0x000001379C2590C8>,\n",
       "                                        'max_depth': <scipy.stats._distn_infrastructure.rv_frozen object at 0x000001379C259288>,\n",
       "                                        'n_estimators': <scipy.stats._distn_infrastructure.rv_frozen object at 0x000001379C229B48>,\n",
       "                                        'num_leaves': <scipy.stats._distn_infrastructure.rv_frozen object at 0x000001379C243D48>},\n",
       "                   random_state=4, return_train_score=True, scoring='roc_auc')"
      ]
     },
     "execution_count": 37,
     "metadata": {},
     "output_type": "execute_result"
    }
   ],
   "source": [
    "Xs=ss.fit_transform(X)\n",
    "lgbc=lgb.LGBMClassifier(random_state=4)\n",
    "\n",
    "params={'n_estimators':sp_randint(20,250),\n",
    "       'max_depth':sp_randint(2,10),\n",
    "       'learning_rate':sp_uniform(0,0.5),\n",
    "       'num_leaves':sp_randint(10,100)}\n",
    "rsearch=RandomizedSearchCV(lgbc,param_distributions=params,n_iter=100,cv=3,scoring='roc_auc',n_jobs=-1,random_state=4,\n",
    "                           return_train_score=True)\n",
    "\n",
    "rsearch.fit(Xs,y)\n"
   ]
  },
  {
   "cell_type": "code",
   "execution_count": 38,
   "metadata": {},
   "outputs": [
    {
     "data": {
      "text/plain": [
       "{'learning_rate': 0.1603078223495974,\n",
       " 'max_depth': 3,\n",
       " 'n_estimators': 23,\n",
       " 'num_leaves': 84}"
      ]
     },
     "execution_count": 38,
     "metadata": {},
     "output_type": "execute_result"
    }
   ],
   "source": [
    "rsearch.best_params_"
   ]
  },
  {
   "cell_type": "code",
   "execution_count": 39,
   "metadata": {},
   "outputs": [
    {
     "name": "stdout",
     "output_type": "stream",
     "text": [
      "Train Results \n",
      " \n",
      "Confusion Matrix \n",
      "\n",
      "[[313  36]\n",
      " [ 45 143]]\n",
      "**************\n",
      "Accuracy SCore 0.8491620111731844\n",
      "ROC_AUC_SCORE 0.9324361397305371\n",
      "\n",
      "\n",
      "Test Results \n",
      "Confusion Matrix \n",
      "*************************************\n",
      "[[119  32]\n",
      " [ 28  52]] \n",
      "\n",
      "Accuracy Score 0.7402597402597403\n",
      "ROC_AUC_SCORE 0.8116721854304636\n"
     ]
    }
   ],
   "source": [
    "lgbc= lgb.LGBMClassifier(**rsearch.best_params_,random_state=4)\n",
    "\n",
    "\n",
    "\n",
    "lgbc.fit(xtrains,ytrain)\n",
    "ytrain_pred=lgbc.predict(xtrains)\n",
    "ytrain_prob=lgbc.predict_proba(xtrains)[:,1]\n",
    "\n",
    "print('Train Results \\n ')\n",
    "print('Confusion Matrix \\n')\n",
    "print(confusion_matrix(ytrain,ytrain_pred))\n",
    "print('**************')\n",
    "print('Accuracy SCore',accuracy_score(ytrain,ytrain_pred))\n",
    "print('ROC_AUC_SCORE',roc_auc_score(ytrain,ytrain_prob))\n",
    "\n",
    "\n",
    "ytest_pred=lgbc.predict(xtests)\n",
    "ytest_prob=lgbc.predict_proba(xtests)[:,1]\n",
    "\n",
    "print('\\n')\n",
    "print('Test Results ')\n",
    "print('Confusion Matrix ')\n",
    "print('*************************************')\n",
    "print(confusion_matrix(ytest,ytest_pred),'\\n')\n",
    "print('Accuracy Score',accuracy_score(ytest,ytest_pred))\n",
    "print('ROC_AUC_SCORE',roc_auc_score(ytest,ytest_prob))\n",
    "\n"
   ]
  },
  {
   "cell_type": "code",
   "execution_count": null,
   "metadata": {},
   "outputs": [],
   "source": []
  },
  {
   "cell_type": "code",
   "execution_count": null,
   "metadata": {},
   "outputs": [],
   "source": []
  }
 ],
 "metadata": {
  "kernelspec": {
   "display_name": "Python 3",
   "language": "python",
   "name": "python3"
  },
  "language_info": {
   "codemirror_mode": {
    "name": "ipython",
    "version": 3
   },
   "file_extension": ".py",
   "mimetype": "text/x-python",
   "name": "python",
   "nbconvert_exporter": "python",
   "pygments_lexer": "ipython3",
   "version": "3.8.5"
  }
 },
 "nbformat": 4,
 "nbformat_minor": 4
}
